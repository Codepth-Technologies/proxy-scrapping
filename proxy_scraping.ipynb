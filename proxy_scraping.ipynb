{
 "cells": [
  {
   "cell_type": "code",
   "execution_count": 1,
   "metadata": {},
   "outputs": [
    {
     "name": "stdout",
     "output_type": "stream",
     "text": [
      "Request #1\n",
      "Skipping. Connnection error\n",
      "Request #2\n",
      "Skipping. Connnection error\n",
      "Request #3\n",
      "Skipping. Connnection error\n",
      "Request #4\n",
      "['Taaron Ke Shehar', 'Chocolate (From \"Sangeetkaar\")', 'Dil Tod Ke', 'Dil Chahte Ho', 'Hasina Pagal Deewani', 'Cute Song', 'Kyon?', 'Ek Tarfa', 'Kandhe Ka Woh Til', 'Afsos Karoge', 'Kurta Pajama (From \"Sangeetkaar\")', 'Jaan Ban Gaye', 'Meri Aashiqui', 'Dil Ko Maine Di Kasam', 'Dil Ko Karaar Aaya (From \"Sukoon\")', 'Pyar Naal', 'Duniya Sharma Jaayegi', 'Bheegi Bheegi', 'Dil Kahe', 'Sang Rahiyo', 'Lagdi Lahore Di', 'Naam', 'Ek Baat Hai', 'Kalla Sohna Nai', 'Tere Naal', 'Billo Tu Agg', 'Goa Beach', 'Tehas Nehas', 'Teri Baat Aur Hai', 'Ishq Ishq Ishq', 'Jinke Liye', 'Jogan', 'Toot Jaayein', 'Illegal Weapon 2.0', 'Ringtone', 'Chal Ghar Chalen (feat. Arijit Singh)', 'Tu Aa Jaana', 'Yalgaar', 'Bin Puche Ajana', 'Bhula Dunga', 'Garmi', 'Tujhe Kitna Chahne Lage', 'Zara Thehro', 'Teri Gali Mein Aata Nahin', 'Malang (Title Track)', 'Muqabla', 'Aise Na Mujhe Tum Dekho', 'Tujhe Kitna Chahne Lage Remix (Remix By Dj Chetas)', 'Aala Re Aala Ganesha', 'Viah Nai Karauna']\n",
      "Request #5\n",
      "Skipping. Connnection error\n",
      "Request #6\n",
      "Skipping. Connnection error\n",
      "Request #7\n",
      "Skipping. Connnection error\n",
      "Request #8\n",
      "Skipping. Connnection error\n",
      "Request #9\n",
      "Skipping. Connnection error\n",
      "Request #10\n",
      "Skipping. Connnection error\n"
     ]
    }
   ],
   "source": [
    "from lxml.html import fromstring\n",
    "from bs4 import BeautifulSoup\n",
    "import requests\n",
    "import random\n",
    "from itertools import cycle\n",
    "import traceback\n",
    "import pandas as pd\n",
    "\n",
    "def get_proxies():\n",
    "    url = \"https://free-proxy-list.net/\"\n",
    "    # get the HTTP response and construct soup object\n",
    "    soup = BeautifulSoup(requests.get(url).content, \"html.parser\")\n",
    "    proxies = []\n",
    "    for row in soup.find(\"table\", attrs={\"id\": \"proxylisttable\"}).find_all(\"tr\")[1:]:\n",
    "        tds = row.find_all(\"td\")\n",
    "        try:\n",
    "            ip = tds[0].text.strip()\n",
    "            port = tds[1].text.strip()\n",
    "            host = f\"{ip}:{port}\"\n",
    "            proxies.append(host)\n",
    "        except IndexError:\n",
    "            continue\n",
    "    return proxies\n",
    "\n",
    "\n",
    "#If you are copy pasting proxy ips, put in the list below\n",
    "\n",
    "proxies = get_proxies()\n",
    "proxy_pool = cycle(proxies)\n",
    "\n",
    "url = 'https://gaana.com/playlist/gaana-dj-bollywood-top-50-1'\n",
    "for i in range(1,11):\n",
    "    #Get a proxy from the pool\n",
    "\n",
    "    PROXY = next(proxy_pool)\n",
    "    print(\"Request #%d\"%i)\n",
    "    try:\n",
    "        response = requests.get(url,proxies={\"http\": PROXY, \"https\": PROXY})\n",
    "        soup = BeautifulSoup(response.content, 'html5lib')\n",
    "        top50 = soup.find('div', {'class': 's_c'})\n",
    "        songs = top50.find_all('li', {'class': 'draggable'})\n",
    "        titles = [song.find('a', {'data-type': 'playSong'}).get_text()\n",
    "                  for song in songs]\n",
    "        print(titles)\n",
    "    except:\n",
    "        print(\"Skipping. Connnection error\")"
   ]
  },
  {
   "cell_type": "code",
   "execution_count": null,
   "metadata": {},
   "outputs": [],
   "source": []
  },
  {
   "cell_type": "code",
   "execution_count": null,
   "metadata": {},
   "outputs": [],
   "source": []
  }
 ],
 "metadata": {
  "kernelspec": {
   "display_name": "Python 3",
   "language": "python",
   "name": "python3"
  },
  "language_info": {
   "codemirror_mode": {
    "name": "ipython",
    "version": 3
   },
   "file_extension": ".py",
   "mimetype": "text/x-python",
   "name": "python",
   "nbconvert_exporter": "python",
   "pygments_lexer": "ipython3",
   "version": "3.8.2"
  }
 },
 "nbformat": 4,
 "nbformat_minor": 4
}
